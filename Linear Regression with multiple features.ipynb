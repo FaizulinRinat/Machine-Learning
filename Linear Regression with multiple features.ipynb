{
 "cells": [
  {
   "cell_type": "code",
   "execution_count": 1,
   "id": "706ebbf2",
   "metadata": {},
   "outputs": [],
   "source": [
    "import numpy as np\n",
    "import pandas as pd\n",
    "from matplotlib import pyplot as plt\n",
    "from sklearn.model_selection import train_test_split"
   ]
  },
  {
   "cell_type": "code",
   "execution_count": 2,
   "id": "897b9d02",
   "metadata": {},
   "outputs": [
    {
     "data": {
      "text/plain": [
       "Index(['price', 'area', 'bedrooms', 'bathrooms', 'stories', 'mainroad',\n",
       "       'guestroom', 'basement', 'hotwaterheating', 'airconditioning',\n",
       "       'parking', 'prefarea', 'furnishingstatus'],\n",
       "      dtype='object')"
      ]
     },
     "execution_count": 2,
     "metadata": {},
     "output_type": "execute_result"
    }
   ],
   "source": [
    "data=pd.read_csv('Housing.csv')\n",
    "data.columns"
   ]
  },
  {
   "cell_type": "code",
   "execution_count": 3,
   "id": "e47fe275",
   "metadata": {
    "scrolled": true
   },
   "outputs": [
    {
     "data": {
      "text/html": [
       "<div>\n",
       "<style scoped>\n",
       "    .dataframe tbody tr th:only-of-type {\n",
       "        vertical-align: middle;\n",
       "    }\n",
       "\n",
       "    .dataframe tbody tr th {\n",
       "        vertical-align: top;\n",
       "    }\n",
       "\n",
       "    .dataframe thead th {\n",
       "        text-align: right;\n",
       "    }\n",
       "</style>\n",
       "<table border=\"1\" class=\"dataframe\">\n",
       "  <thead>\n",
       "    <tr style=\"text-align: right;\">\n",
       "      <th></th>\n",
       "      <th>area</th>\n",
       "      <th>bedrooms</th>\n",
       "      <th>bathrooms</th>\n",
       "      <th>stories</th>\n",
       "      <th>parking</th>\n",
       "      <th>price in 1.000.000</th>\n",
       "    </tr>\n",
       "  </thead>\n",
       "  <tbody>\n",
       "    <tr>\n",
       "      <th>0</th>\n",
       "      <td>7420</td>\n",
       "      <td>4</td>\n",
       "      <td>2</td>\n",
       "      <td>3</td>\n",
       "      <td>2</td>\n",
       "      <td>13.300</td>\n",
       "    </tr>\n",
       "    <tr>\n",
       "      <th>1</th>\n",
       "      <td>8960</td>\n",
       "      <td>4</td>\n",
       "      <td>4</td>\n",
       "      <td>4</td>\n",
       "      <td>3</td>\n",
       "      <td>12.250</td>\n",
       "    </tr>\n",
       "    <tr>\n",
       "      <th>2</th>\n",
       "      <td>9960</td>\n",
       "      <td>3</td>\n",
       "      <td>2</td>\n",
       "      <td>2</td>\n",
       "      <td>2</td>\n",
       "      <td>12.250</td>\n",
       "    </tr>\n",
       "    <tr>\n",
       "      <th>3</th>\n",
       "      <td>7500</td>\n",
       "      <td>4</td>\n",
       "      <td>2</td>\n",
       "      <td>2</td>\n",
       "      <td>3</td>\n",
       "      <td>12.215</td>\n",
       "    </tr>\n",
       "    <tr>\n",
       "      <th>4</th>\n",
       "      <td>7420</td>\n",
       "      <td>4</td>\n",
       "      <td>1</td>\n",
       "      <td>2</td>\n",
       "      <td>2</td>\n",
       "      <td>11.410</td>\n",
       "    </tr>\n",
       "  </tbody>\n",
       "</table>\n",
       "</div>"
      ],
      "text/plain": [
       "   area  bedrooms  bathrooms  stories  parking  price in 1.000.000\n",
       "0  7420         4          2        3        2              13.300\n",
       "1  8960         4          4        4        3              12.250\n",
       "2  9960         3          2        2        2              12.250\n",
       "3  7500         4          2        2        3              12.215\n",
       "4  7420         4          1        2        2              11.410"
      ]
     },
     "execution_count": 3,
     "metadata": {},
     "output_type": "execute_result"
    }
   ],
   "source": [
    "data=data.loc[:,['area','bedrooms','bathrooms','stories','parking','price']]\n",
    "data['price']/=10**6\n",
    "data.rename(columns={'price':'price in 1.000.000'},inplace=True)\n",
    "data.head()"
   ]
  },
  {
   "cell_type": "code",
   "execution_count": 4,
   "id": "b9f4ed5b",
   "metadata": {},
   "outputs": [
    {
     "data": {
      "text/plain": [
       "(545, 6)"
      ]
     },
     "execution_count": 4,
     "metadata": {},
     "output_type": "execute_result"
    }
   ],
   "source": [
    "data.shape"
   ]
  },
  {
   "cell_type": "code",
   "execution_count": 5,
   "id": "b63b4dc8",
   "metadata": {},
   "outputs": [],
   "source": [
    "x=data.drop(columns='price in 1.000.000')\n",
    "features=x.columns\n",
    "y=data['price in 1.000.000']"
   ]
  },
  {
   "cell_type": "code",
   "execution_count": 6,
   "id": "f957b7d8",
   "metadata": {},
   "outputs": [
    {
     "data": {
      "text/plain": [
       "(   area  bedrooms  bathrooms  stories  parking\n",
       " 0  7420         4          2        3        2\n",
       " 1  8960         4          4        4        3\n",
       " 2  9960         3          2        2        2\n",
       " 3  7500         4          2        2        3\n",
       " 4  7420         4          1        2        2,\n",
       " 0    13.300\n",
       " 1    12.250\n",
       " 2    12.250\n",
       " 3    12.215\n",
       " 4    11.410\n",
       " Name: price in 1.000.000, dtype: float64)"
      ]
     },
     "execution_count": 6,
     "metadata": {},
     "output_type": "execute_result"
    }
   ],
   "source": [
    "x[:5],y[:5]"
   ]
  },
  {
   "cell_type": "code",
   "execution_count": 7,
   "id": "3de106ff",
   "metadata": {},
   "outputs": [],
   "source": [
    "x=np.array(x)\n",
    "y=np.array(y)"
   ]
  },
  {
   "cell_type": "code",
   "execution_count": 8,
   "id": "98b73379",
   "metadata": {},
   "outputs": [
    {
     "data": {
      "text/plain": [
       "((381, 5), (164, 5))"
      ]
     },
     "execution_count": 8,
     "metadata": {},
     "output_type": "execute_result"
    }
   ],
   "source": [
    "x_train,x_test,y_train,y_test=train_test_split(x,y,test_size=0.3,random_state=42)\n",
    "x_train.shape,x_test.shape"
   ]
  },
  {
   "cell_type": "code",
   "execution_count": 9,
   "id": "7ea5b529",
   "metadata": {},
   "outputs": [],
   "source": [
    "def z_score(xj):\n",
    "    return (xj-np.mean(xj))/np.std(xj)"
   ]
  },
  {
   "cell_type": "code",
   "execution_count": 10,
   "id": "b0f4d56f",
   "metadata": {},
   "outputs": [],
   "source": [
    "x_train_norm=np.zeros(x_train.shape)\n",
    "x_test_norm=np.zeros(x_test.shape)\n",
    "for j in range(5):\n",
    "    x_train_norm[:,j]=z_score(x_train[:,j])\n",
    "    x_test_norm[:,j]=z_score(x_test[:,j])"
   ]
  },
  {
   "cell_type": "code",
   "execution_count": 11,
   "id": "ac414694",
   "metadata": {},
   "outputs": [
    {
     "name": "stdout",
     "output_type": "stream",
     "text": [
      "distribution of features before normalization\n"
     ]
    },
    {
     "data": {
      "image/png": "[encoded data removed]",
      "text/plain": [
       "<Figure size 1400x300 with 5 Axes>"
      ]
     },
     "metadata": {},
     "output_type": "display_data"
    }
   ],
   "source": [
    "print('distribution of features before normalization')\n",
    "plt.figure(figsize=(14,3))\n",
    "for i in range(5):\n",
    "    plt.subplot(1,5,i+1)\n",
    "    plt.hist(x_train[:,i])\n",
    "    plt.xlabel(features[i])"
   ]
  },
  {
   "cell_type": "code",
   "execution_count": 12,
   "id": "dd1cb712",
   "metadata": {},
   "outputs": [
    {
     "name": "stdout",
     "output_type": "stream",
     "text": [
      "distribution of features after normalization\n"
     ]
    },
    {
     "data": {
      "image/png": "[encoded data removed]",
      "text/plain": [
       "<Figure size 1400x300 with 5 Axes>"
      ]
     },
     "metadata": {},
     "output_type": "display_data"
    }
   ],
   "source": [
    "print('distribution of features after normalization')\n",
    "plt.figure(figsize=(14,3))\n",
    "for i in range(5):\n",
    "    plt.subplot(1,5,i+1)\n",
    "    plt.hist(x_train_norm[:,i])\n",
    "    plt.xlabel(features[i])"
   ]
  },
  {
   "cell_type": "code",
   "execution_count": 13,
   "id": "5554229f",
   "metadata": {},
   "outputs": [
    {
     "data": {
      "text/plain": [
       "(array([[7160,    3,    1,    1,    2],\n",
       "        [3584,    2,    1,    1,    0],\n",
       "        [4280,    2,    1,    1,    2],\n",
       "        [7000,    3,    1,    4,    2],\n",
       "        [9620,    3,    1,    1,    2]], dtype=int64),\n",
       " array([[ 0.93430081,  0.0558608 , -0.55323817, -0.90765959,  1.59160337],\n",
       "        [-0.71024648, -1.27432452, -0.55323817, -0.90765959, -0.80051057],\n",
       "        [-0.39016681, -1.27432452, -0.55323817, -0.90765959,  1.59160337],\n",
       "        [ 0.86071927,  0.0558608 , -0.55323817,  2.57373272,  1.59160337],\n",
       "        [ 2.0656169 ,  0.0558608 , -0.55323817, -0.90765959,  1.59160337]]))"
      ]
     },
     "execution_count": 13,
     "metadata": {},
     "output_type": "execute_result"
    }
   ],
   "source": [
    "x_train[:5],x_train_norm[:5]"
   ]
  },
  {
   "cell_type": "markdown",
   "id": "c4f86178",
   "metadata": {},
   "source": [
    "### Model Prediction With Multiple Variables\n",
    "\n",
    "$$ f_{\\mathbf{w},b}(\\mathbf{x}) =  w_0x_0 + w_1x_1 +... + w_{n-1}x_{n-1} + b \\tag{1}$$\n",
    "$$ f_{\\mathbf{w},b}(\\mathbf{x}) = \\mathbf{w} \\cdot \\mathbf{x} + b  \\tag{2} $$ \n",
    "<a name=\"toc_15456_4\"></a>\n",
    "### Compute Cost With Multiple Variables\n",
    "$$J(\\mathbf{w},b) = \\frac{1}{2m} \\sum\\limits_{i = 0}^{m-1} (f_{\\mathbf{w},b}(\\mathbf{x}^{(i)}) - y^{(i)})^2 \\tag{3}$$ \n",
    "where:\n",
    "$$ f_{\\mathbf{w},b}(\\mathbf{x}^{(i)}) = \\mathbf{w} \\cdot \\mathbf{x}^{(i)} + b  \\tag{4} $$\n",
    "<a name=\"toc_15456_5\"></a>\n",
    "### Gradient Descent With Multiple Variables\n",
    "Gradient descent for multiple variables:\n",
    "\n",
    "$$\\begin{align*} \\text{repeat}&\\text{ until convergence:} \\; \\lbrace \\newline\\;\n",
    "& w_j = w_j -  \\alpha \\frac{\\partial J(\\mathbf{w},b)}{\\partial w_j} \\tag{5}  \\; & \\text{for j = 0..n-1}\\newline\n",
    "&b\\ \\ = b -  \\alpha \\frac{\\partial J(\\mathbf{w},b)}{\\partial b}  \\newline \\rbrace\n",
    "\\end{align*}$$\n",
    "\n",
    "where, n is the number of features, parameters $w_j$,  $b$, are updated simultaneously and where  \n",
    "\n",
    "$$\n",
    "\\begin{align}\n",
    "\\frac{\\partial J(\\mathbf{w},b)}{\\partial w_j}  &= \\frac{1}{m} \\sum\\limits_{i = 0}^{m-1} (f_{\\mathbf{w},b}(\\mathbf{x}^{(i)}) - y^{(i)})x_{j}^{(i)} \\tag{6}  \\\\\n",
    "\\frac{\\partial J(\\mathbf{w},b)}{\\partial b}  &= \\frac{1}{m} \\sum\\limits_{i = 0}^{m-1} (f_{\\mathbf{w},b}(\\mathbf{x}^{(i)}) - y^{(i)}) \\tag{7}\n",
    "\\end{align}\n",
    "$$\n",
    "* m is the number of training examples in the data set\n",
    "\n",
    "    \n",
    "*  $f_{\\mathbf{w},b}(\\mathbf{x}^{(i)})$ is the model's prediction, while $y^{(i)}$ is the target value\n"
   ]
  },
  {
   "cell_type": "code",
   "execution_count": 14,
   "id": "6529b0c5",
   "metadata": {},
   "outputs": [],
   "source": [
    "class LinearRegression:\n",
    "    def __init__(self):\n",
    "        self.w=None\n",
    "        self.b=None\n",
    "    def compute_cost(self,x,y,w,b):\n",
    "        m=x.shape[0]\n",
    "        total_cost=0\n",
    "        for i in range(m):\n",
    "            f_wb_i=self.predict(x[i],w,b)\n",
    "            cost_i=(f_wb_i-y[i])**2\n",
    "            total_cost+=cost_i\n",
    "        total_cost/=2*m\n",
    "        return total_cost\n",
    "    def compute_gradient(self,x,y,w,b):\n",
    "        m,n=x.shape\n",
    "        dj_dw,dj_db=np.zeros(n),0\n",
    "        for i in range(m):\n",
    "            f_wb_i=self.predict(x[i],w,b)\n",
    "            dj_db_i=(f_wb_i-y[i])\n",
    "            dj_db+=dj_db_i\n",
    "            for j in range(n):\n",
    "                dj_dw_ij=(f_wb_i-y[i])*x[i][j]\n",
    "                dj_dw[j]+=dj_dw_ij\n",
    "        dj_db/=m\n",
    "        dj_dw/=m\n",
    "        return dj_dw,dj_db\n",
    "    def gradient_descent(self,x,y,alpha=1e-2,num_iters=10**4):\n",
    "        n=x.shape[1]\n",
    "        self.w=np.zeros(n)\n",
    "        self.b=0\n",
    "        J,it=[],[]\n",
    "        for i in range(num_iters):\n",
    "            dj_dw,dj_db=self.compute_gradient(x,y,self.w,self.b)\n",
    "            self.w=self.w-alpha*dj_dw\n",
    "            self.b=self.b-alpha*dj_db\n",
    "            cost=self.compute_cost(x,y,self.w,self.b)\n",
    "            J.append(cost)\n",
    "            it.append(i)\n",
    "        plt.plot(it,J)\n",
    "        plt.xlabel('number of iterations')\n",
    "        plt.ylabel('cost')\n",
    "        plt.title('learning curve')\n",
    "    def predict(self,x,w,b):\n",
    "        return np.dot(x,w)+b"
   ]
  },
  {
   "cell_type": "code",
   "execution_count": 15,
   "id": "d40c1f99",
   "metadata": {},
   "outputs": [],
   "source": [
    "def metrics(y_true,y_pred):\n",
    "    y_mean=np.mean(y_true)\n",
    "    mae=np.mean(abs(y_true-y_pred))\n",
    "    mse=np.mean(np.square(y_true-y_pred))\n",
    "    r_square=1-np.sum(np.square(y_true-y_pred))/np.sum(np.square(y_true-y_mean))\n",
    "    print(f'mae = {mae}')\n",
    "    print(f'mse = {mse}')\n",
    "    print(f'r_square = {r_square}')"
   ]
  },
  {
   "cell_type": "code",
   "execution_count": 16,
   "id": "92414265",
   "metadata": {},
   "outputs": [
    {
     "data": {
      "image/png": "[encoded data removed]",
      "text/plain": [
       "<Figure size 640x480 with 1 Axes>"
      ]
     },
     "metadata": {},
     "output_type": "display_data"
    }
   ],
   "source": [
    "model=LinearRegression()\n",
    "model.gradient_descent(x_train_norm,y_train)\n",
    "w,b=model.w,model.b\n",
    "y_pred=model.predict(x_test_norm,w,b)"
   ]
  },
  {
   "cell_type": "code",
   "execution_count": 17,
   "id": "02846bf5",
   "metadata": {},
   "outputs": [
    {
     "name": "stdout",
     "output_type": "stream",
     "text": [
      "mae = 1.0534156006718938\n",
      "mse = 2.022063996054384\n",
      "r_square = 0.5304504638536424\n"
     ]
    }
   ],
   "source": [
    "metrics(y_test,y_pred)"
   ]
  },
  {
   "cell_type": "code",
   "execution_count": 18,
   "id": "55fba1fa",
   "metadata": {},
   "outputs": [],
   "source": [
    "from sklearn.linear_model import LinearRegression\n",
    "from sklearn.metrics import mean_absolute_error as mae,mean_squared_error as mse,r2_score as r_score"
   ]
  },
  {
   "cell_type": "code",
   "execution_count": 19,
   "id": "c0571e52",
   "metadata": {},
   "outputs": [],
   "source": [
    "lr=LinearRegression()\n",
    "lr.fit(x_train,y_train)\n",
    "y_pred_lr=lr.predict(x_test)"
   ]
  },
  {
   "cell_type": "code",
   "execution_count": 20,
   "id": "114a1eae",
   "metadata": {
    "scrolled": true
   },
   "outputs": [
    {
     "name": "stdout",
     "output_type": "stream",
     "text": [
      "mae = 1.065137826372779\n",
      "mse = 2.0441651155917864\n",
      "r_square = 0.5253182966980272\n"
     ]
    }
   ],
   "source": [
    "print(f'mae = {mae(y_test,y_pred_lr)}')\n",
    "print(f'mse = {mse(y_test,y_pred_lr)}')\n",
    "print(f'r_square = {r_score(y_test,y_pred_lr)}')"
   ]
  }
 ],
 "metadata": {
  "kernelspec": {
   "display_name": "Python 3 (ipykernel)",
   "language": "python",
   "name": "python3"
  },
  "language_info": {
   "codemirror_mode": {
    "name": "ipython",
    "version": 3
   },
   "file_extension": ".py",
   "mimetype": "text/x-python",
   "name": "python",
   "nbconvert_exporter": "python",
   "pygments_lexer": "ipython3",
   "version": "3.9.13"
  }
 },
 "nbformat": 4,
 "nbformat_minor": 5
}
